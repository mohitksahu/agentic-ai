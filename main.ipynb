{
 "cells": [
  {
   "cell_type": "markdown",
   "id": "57964113",
   "metadata": {},
   "source": [
    "# Agentic AI Financial Chatbot\n",
    "\n",
    "This notebook serves as the main interface for the financial chatbot. Follow the cells below to:\n",
    "1. Set up the environment\n",
    "2. Initialize the LLM models\n",
    "3. Process your financial documents\n",
    "4. Interact with the chatbot for financial analysis"
   ]
  },
  {
   "cell_type": "code",
   "execution_count": null,
   "id": "6688162d",
   "metadata": {},
   "outputs": [],
   "source": [
    "import os\n",
    "import sys\n",
    "from pathlib import Path\n",
    "\n",
    "# Add the project root to the system path if needed\n",
    "project_root = str(Path().absolute())\n",
    "if project_root not in sys.path:\n",
    "    sys.path.append(project_root)\n",
    "    \n",
    "# Import project modules\n",
    "from agents.financial_agent import FinancialAgent\n",
    "from llms.gpt2_wrapper import GPT2Wrapper\n",
    "from llms.distilbert_wrapper import DistilBertWrapper\n",
    "\n",
    "# For visualization\n",
    "import pandas as pd\n",
    "import matplotlib.pyplot as plt"
   ]
  },
  {
   "cell_type": "markdown",
   "id": "f8bb071e",
   "metadata": {},
   "source": [
    "# Initialize LLM Models\n",
    "\n",
    "We'll be using Qwen and Mistral models for our financial chatbot. Follow these steps to set them up:\n",
    "\n",
    "1. Install the required model packages:\n",
    "```bash\n",
    "pip install transformers torch accelerate\n",
    "```\n",
    "\n",
    "2. Download the models:\n",
    "   - Qwen: We'll use Qwen-7B-Chat\n",
    "   - Mistral: We'll use Mistral-7B-Instruct-v0.1\n",
    "\n",
    "Note: The models will be downloaded automatically when we initialize them for the first time."
   ]
  },
  {
   "cell_type": "code",
   "execution_count": null,
   "id": "10ad3561",
   "metadata": {},
   "outputs": [],
   "source": [
    "# Initialize the GPT-2 model\n",
    "print(\"Loading GPT-2 model...\")\n",
    "gpt2_model = GPT2Wrapper(\"gpt2\")\n",
    "print(\"Model loaded successfully!\")"
   ]
  },
  {
   "cell_type": "markdown",
   "id": "55be1b4c",
   "metadata": {},
   "source": [
    "# Process Financial Documents\n",
    "\n",
    "Load and process your financial documents (CSV/PDF). We'll use the sample data for this example."
   ]
  },
  {
   "cell_type": "code",
   "execution_count": null,
   "id": "95ac4976",
   "metadata": {},
   "outputs": [],
   "source": [
    "# Create the financial agent\n",
    "agent = FinancialAgent(gpt2_model)\n",
    "print(\"Financial Agent initialized successfully!\")"
   ]
  },
  {
   "cell_type": "markdown",
   "id": "afeca956",
   "metadata": {},
   "source": [
    "# Financial Analysis\n",
    "\n",
    "Analyze the financial data using the budget calculator and trend analyzer."
   ]
  },
  {
   "cell_type": "code",
   "execution_count": null,
   "id": "055d2753",
   "metadata": {},
   "outputs": [],
   "source": [
    "# Path to the test CSV file\n",
    "test_csv_path = os.path.join('data', 'test_budget.csv')\n",
    "\n",
    "# Check if the test file exists, create it if it doesn't\n",
    "if not os.path.exists(test_csv_path):\n",
    "    print(\"Creating test data...\")\n",
    "    # Create directory if it doesn't exist\n",
    "    os.makedirs('data', exist_ok=True)\n",
    "    \n",
    "    # Create sample data\n",
    "    data = {\n",
    "        'date': pd.date_range(start='2025-01-01', periods=10),\n",
    "        'amount': [100, 50, 75, 200, 25, 150, 80, 90, 120, 60],\n",
    "        'category': ['Groceries', 'Transport', 'Utilities', 'Rent', \n",
    "                    'Entertainment', 'Groceries', 'Healthcare', \n",
    "                    'Transport', 'Utilities', 'Entertainment']\n",
    "    }\n",
    "    df = pd.DataFrame(data)\n",
    "    df.to_csv(test_csv_path, index=False)\n",
    "    print(f\"Test data created at {test_csv_path}\")\n",
    "else:\n",
    "    print(f\"Test data already exists at {test_csv_path}\")\n",
    "    \n",
    "# Display the test data\n",
    "df = pd.read_csv(test_csv_path)\n",
    "df.head()"
   ]
  },
  {
   "cell_type": "markdown",
   "id": "3a9c11bd",
   "metadata": {},
   "source": [
    "# Visualizations\n",
    "\n",
    "Generate visual representations of the financial data."
   ]
  },
  {
   "cell_type": "code",
   "execution_count": null,
   "id": "9de13312",
   "metadata": {},
   "outputs": [],
   "source": [
    "# Process the document\n",
    "response = agent.run(f\"Process the document {test_csv_path}\")\n",
    "print(\"Document processing response:\")\n",
    "print(response)\n",
    "print(\"\\n\" + \"-\"*50 + \"\\n\")\n",
    "\n",
    "# Set monthly income\n",
    "response = agent.run(\"Set monthly income to 5000\")\n",
    "print(\"Income setting response:\")\n",
    "print(response)\n",
    "print(\"\\n\" + \"-\"*50 + \"\\n\")\n",
    "\n",
    "# Analyze the budget\n",
    "response = agent.run(\"Analyze my budget\")\n",
    "print(\"Budget analysis response:\")\n",
    "print(response)\n",
    "print(\"\\n\" + \"-\"*50 + \"\\n\")\n",
    "\n",
    "# Ask a general question\n",
    "question = \"What are some tips for saving money on groceries?\"\n",
    "print(f\"Question: {question}\")\n",
    "response = agent.run(question)\n",
    "print(f\"Answer: {response}\")"
   ]
  },
  {
   "cell_type": "markdown",
   "id": "7fe29ddc",
   "metadata": {},
   "source": [
    "# Chatbot Interaction\n",
    "\n",
    "The chatbot can now help you with various financial tasks. Here are some example questions and commands:\n",
    "\n",
    "## Data Management\n",
    "- \"Process my financial document sample_budget.csv\"\n",
    "- \"Set my monthly income to 6000\"\n",
    "\n",
    "## Analysis\n",
    "- \"What are my top spending categories?\"\n",
    "- \"Analyze my budget and give recommendations\"\n",
    "- \"Show me my spending patterns\"\n",
    "- \"What's my current savings rate?\"\n",
    "- \"Which categories am I overspending in?\"\n",
    "\n",
    "## Visualizations\n",
    "- \"Generate charts for my spending\"\n",
    "- \"Show me my monthly spending trends\"\n",
    "- \"Create a breakdown of my expenses\"\n",
    "\n",
    "## Combined Analysis\n",
    "- \"Analyze my spending and show me where I can save money\"\n",
    "- \"Compare my budget with recommended percentages\"\n",
    "- \"Give me a complete financial overview with visualizations\"\n",
    "\n",
    "Type your question below and press Enter. Type 'quit' to exit."
   ]
  },
  {
   "cell_type": "code",
   "execution_count": null,
   "id": "0c9281b1",
   "metadata": {},
   "outputs": [],
   "source": [
    "# Initialize the DistilBERT model\n",
    "print(\"Loading DistilBERT model...\")\n",
    "distilbert_model = DistilBertWrapper(\"distilbert-base-uncased\")\n",
    "print(\"Model loaded successfully!\")\n",
    "\n",
    "# Create a new agent with DistilBERT\n",
    "distilbert_agent = FinancialAgent(distilbert_model)\n",
    "print(\"DistilBERT agent initialized successfully!\")\n",
    "print(\"\\n\" + \"-\"*50 + \"\\n\")\n",
    "\n",
    "# Process the document\n",
    "response = distilbert_agent.run(f\"Process the document {test_csv_path}\")\n",
    "print(\"Document processing response:\")\n",
    "print(response)\n",
    "print(\"\\n\" + \"-\"*50 + \"\\n\")\n",
    "\n",
    "# Set monthly income\n",
    "response = distilbert_agent.run(\"Set monthly income to 6000\")\n",
    "print(\"Income setting response:\")\n",
    "print(response)\n",
    "print(\"\\n\" + \"-\"*50 + \"\\n\")\n",
    "\n",
    "# Analyze the budget\n",
    "response = distilbert_agent.run(\"Analyze my budget\")\n",
    "print(\"Budget analysis response:\")\n",
    "print(response)"
   ]
  }
 ],
 "metadata": {
  "language_info": {
   "name": "python"
  }
 },
 "nbformat": 4,
 "nbformat_minor": 5
}
