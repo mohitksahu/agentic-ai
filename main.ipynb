{
 "cells": [
  {
   "cell_type": "markdown",
   "id": "57964113",
   "metadata": {},
   "source": [
    "# Agentic AI Financial Chatbot\n",
    "\n",
    "This notebook serves as the main interface for the financial chatbot. Follow the cells below to:\n",
    "1. Set up the environment\n",
    "2. Initialize the LLM models\n",
    "3. Process your financial documents\n",
    "4. Interact with the chatbot for financial analysis"
   ]
  },
  {
   "cell_type": "code",
   "execution_count": null,
   "id": "6688162d",
   "metadata": {},
   "outputs": [],
   "source": [
    "# Import required libraries and setup system path\n",
    "import sys\n",
    "import os\n",
    "from pathlib import Path\n",
    "\n",
    "# Add project root to system path\n",
    "project_root = str(Path().absolute())\n",
    "if project_root not in sys.path:\n",
    "    sys.path.append(project_root)\n",
    "\n",
    "# Import project modules\n",
    "from agents.financial_agent import FinancialAgent\n",
    "from llms.qwen_wrapper import QwenWrapper\n",
    "from llms.mistral_wrapper import MistralWrapper\n",
    "from utils.file_loader import FileLoader\n",
    "from utils.helpers import Helpers\n",
    "from analysis.budget_calculator import BudgetCalculator\n",
    "from analysis.trend_analyzer import TrendAnalyzer\n",
    "from visualizations.chart_generator import ChartGenerator\n",
    "\n",
    "# Setup logging\n",
    "Helpers.setup_logging()"
   ]
  },
  {
   "cell_type": "markdown",
   "id": "f8bb071e",
   "metadata": {},
   "source": [
    "# Initialize LLM Models\n",
    "\n",
    "We'll be using Qwen and Mistral models for our financial chatbot. Follow these steps to set them up:\n",
    "\n",
    "1. Install the required model packages:\n",
    "```bash\n",
    "pip install transformers torch accelerate\n",
    "```\n",
    "\n",
    "2. Download the models:\n",
    "   - Qwen: We'll use Qwen-7B-Chat\n",
    "   - Mistral: We'll use Mistral-7B-Instruct-v0.1\n",
    "\n",
    "Note: The models will be downloaded automatically when we initialize them for the first time."
   ]
  },
  {
   "cell_type": "code",
   "execution_count": null,
   "id": "10ad3561",
   "metadata": {},
   "outputs": [],
   "source": [
    "# Initialize LLM models\n",
    "from huggingface_hub import login\n",
    "\n",
    "try:\n",
    "    # Model IDs from HuggingFace\n",
    "    QWEN_MODEL_ID = \"Qwen/Qwen-7B-Chat\"\n",
    "    MISTRAL_MODEL_ID = \"mistralai/Mistral-7B-Instruct-v0.1\"\n",
    "    \n",
    "    print(\"Initializing Qwen model (this may take a few minutes)...\")\n",
    "    qwen_model = QwenWrapper(QWEN_MODEL_ID)\n",
    "    print(\"Qwen model initialized successfully!\")\n",
    "    \n",
    "    print(\"\\nInitializing Mistral model (this may take a few minutes)...\")\n",
    "    mistral_model = MistralWrapper(MISTRAL_MODEL_ID)\n",
    "    print(\"Mistral model initialized successfully!\")\n",
    "    \n",
    "    # Create financial agent with primary model (using Mistral as primary)\n",
    "    agent = FinancialAgent(mistral_model)\n",
    "    print(\"\\nFinancial agent created with Mistral as the primary model!\")\n",
    "    \n",
    "except Exception as e:\n",
    "    print(f\"Error initializing models: {str(e)}\")\n",
    "    print(\"Troubleshooting tips:\")\n",
    "    print(\"1. Make sure you have enough disk space (models are ~15GB each)\")\n",
    "    print(\"2. Check your internet connection\")\n",
    "    print(\"3. Ensure you have at least 16GB of RAM available\")"
   ]
  },
  {
   "cell_type": "markdown",
   "id": "55be1b4c",
   "metadata": {},
   "source": [
    "# Process Financial Documents\n",
    "\n",
    "Load and process your financial documents (CSV/PDF). We'll use the sample data for this example."
   ]
  },
  {
   "cell_type": "code",
   "execution_count": null,
   "id": "95ac4976",
   "metadata": {},
   "outputs": [],
   "source": [
    "# Initialize file loader and load sample data\n",
    "sample_file = os.path.join(project_root, 'data', 'sample_budget.csv')\n",
    "try:\n",
    "    # Process document using the agent's document processing tool\n",
    "    print(\"Loading and processing financial data...\")\n",
    "    response = agent.run(f\"Process the document {sample_file}\")\n",
    "    print(response)\n",
    "    \n",
    "    # Set default monthly income\n",
    "    print(\"\\nSetting default monthly income...\")\n",
    "    response = agent.run(\"Set monthly income to 5000\")\n",
    "    print(response)\n",
    "except Exception as e:\n",
    "    print(f\"Error: {str(e)}\")"
   ]
  },
  {
   "cell_type": "markdown",
   "id": "afeca956",
   "metadata": {},
   "source": [
    "# Financial Analysis\n",
    "\n",
    "Analyze the financial data using the budget calculator and trend analyzer."
   ]
  },
  {
   "cell_type": "code",
   "execution_count": null,
   "id": "055d2753",
   "metadata": {},
   "outputs": [],
   "source": [
    "# Perform comprehensive analysis\n",
    "try:\n",
    "    print(\"Performing Budget Analysis...\")\n",
    "    response = agent.run(\"Analyze my budget and provide recommendations\")\n",
    "    print(response)\n",
    "    \n",
    "    print(\"\\nAnalyzing Spending Trends...\")\n",
    "    response = agent.run(\"Show me my spending trends\")\n",
    "    print(response)\n",
    "except Exception as e:\n",
    "    print(f\"Error in analysis: {str(e)}\")"
   ]
  },
  {
   "cell_type": "markdown",
   "id": "3a9c11bd",
   "metadata": {},
   "source": [
    "# Visualizations\n",
    "\n",
    "Generate visual representations of the financial data."
   ]
  },
  {
   "cell_type": "code",
   "execution_count": null,
   "id": "9de13312",
   "metadata": {},
   "outputs": [],
   "source": [
    "# Generate visualizations through the agent\n",
    "try:\n",
    "    print(\"Generating financial visualizations...\")\n",
    "    response = agent.run(\"Generate visualizations of my financial data\")\n",
    "    print(response)\n",
    "except Exception as e:\n",
    "    print(f\"Error generating visualizations: {str(e)}\")"
   ]
  },
  {
   "cell_type": "markdown",
   "id": "7fe29ddc",
   "metadata": {},
   "source": [
    "# Chatbot Interaction\n",
    "\n",
    "The chatbot can now help you with various financial tasks. Here are some example questions and commands:\n",
    "\n",
    "## Data Management\n",
    "- \"Process my financial document sample_budget.csv\"\n",
    "- \"Set my monthly income to 6000\"\n",
    "\n",
    "## Analysis\n",
    "- \"What are my top spending categories?\"\n",
    "- \"Analyze my budget and give recommendations\"\n",
    "- \"Show me my spending patterns\"\n",
    "- \"What's my current savings rate?\"\n",
    "- \"Which categories am I overspending in?\"\n",
    "\n",
    "## Visualizations\n",
    "- \"Generate charts for my spending\"\n",
    "- \"Show me my monthly spending trends\"\n",
    "- \"Create a breakdown of my expenses\"\n",
    "\n",
    "## Combined Analysis\n",
    "- \"Analyze my spending and show me where I can save money\"\n",
    "- \"Compare my budget with recommended percentages\"\n",
    "- \"Give me a complete financial overview with visualizations\"\n",
    "\n",
    "Type your question below and press Enter. Type 'quit' to exit."
   ]
  },
  {
   "cell_type": "code",
   "execution_count": null,
   "id": "0c9281b1",
   "metadata": {},
   "outputs": [],
   "source": [
    "def suggest_commands():\n",
    "    \"\"\"Suggest some commands based on what hasn't been done yet\"\"\"\n",
    "    suggestions = []\n",
    "    \n",
    "    if not agent.current_data:\n",
    "        suggestions.append(\"- Process a financial document first: 'Process my financial document sample_budget.csv'\")\n",
    "    if not agent.monthly_income:\n",
    "        suggestions.append(\"- Set your monthly income: 'Set my monthly income to 5000'\")\n",
    "    if agent.current_data and agent.monthly_income:\n",
    "        suggestions.extend([\n",
    "            \"- Analyze your budget: 'Analyze my budget'\",\n",
    "            \"- Generate visualizations: 'Generate charts for my spending'\",\n",
    "            \"- Get spending insights: 'Show me my spending patterns'\"\n",
    "        ])\n",
    "    \n",
    "    return suggestions\n",
    "\n",
    "def chat_with_bot():\n",
    "    print(\"Financial Chatbot: Hello! I'm here to help you with your financial analysis.\")\n",
    "    print(\"Type 'quit' to exit the chat or 'help' for suggestions.\")\n",
    "    \n",
    "    while True:\n",
    "        user_input = input(\"\\nYou: \").strip().lower()\n",
    "        \n",
    "        if user_input == 'quit':\n",
    "            print(\"\\nFinancial Chatbot: Goodbye! Have a great day!\")\n",
    "            break\n",
    "            \n",
    "        if user_input == 'help':\n",
    "            suggestions = suggest_commands()\n",
    "            if suggestions:\n",
    "                print(\"\\nFinancial Chatbot: Here are some suggested commands:\")\n",
    "                print(\"\\n\".join(suggestions))\n",
    "            else:\n",
    "                print(\"\\nFinancial Chatbot: You're all set! Feel free to ask any financial questions.\")\n",
    "            continue\n",
    "            \n",
    "        try:\n",
    "            response = agent.run(user_input)\n",
    "            print(f\"\\nFinancial Chatbot: {response}\")\n",
    "        except Exception as e:\n",
    "            print(f\"\\nFinancial Chatbot: Sorry, I encountered an error: {str(e)}\")\n",
    "            print(\"\\nTry asking for 'help' to see suggested commands.\")\n",
    "\n",
    "# Start the chat\n",
    "chat_with_bot()"
   ]
  }
 ],
 "metadata": {
  "language_info": {
   "name": "python"
  }
 },
 "nbformat": 4,
 "nbformat_minor": 5
}
